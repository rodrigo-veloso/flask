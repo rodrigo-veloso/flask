{
 "cells": [
  {
   "cell_type": "code",
   "execution_count": 4,
   "id": "painful-equality",
   "metadata": {},
   "outputs": [
    {
     "name": "stdout",
     "output_type": "stream",
     "text": [
      "oi\n"
     ]
    }
   ],
   "source": [
    "def print_kwargs(data):\n",
    "    print(data)\n",
    "    #return kwargs\n",
    "    \n",
    "kwargs = print_kwargs(**{'data':'oi'})\n",
    "#print_kwargs('ei',**kwargs)"
   ]
  },
  {
   "cell_type": "code",
   "execution_count": 3,
   "id": "regional-preference",
   "metadata": {},
   "outputs": [
    {
     "ename": "SyntaxError",
     "evalue": "invalid syntax (<ipython-input-3-a600221c1f97>, line 3)",
     "output_type": "error",
     "traceback": [
      "\u001b[0;36m  File \u001b[0;32m\"<ipython-input-3-a600221c1f97>\"\u001b[0;36m, line \u001b[0;32m3\u001b[0m\n\u001b[0;31m    [for name in norm_cols[norm]]\u001b[0m\n\u001b[0m     ^\u001b[0m\n\u001b[0;31mSyntaxError\u001b[0m\u001b[0;31m:\u001b[0m invalid syntax\n"
     ]
    }
   ],
   "source": [
    "norm_cols = {'zscore':['sal','proce'],'min-max':['height','age']}\n",
    "\n",
    "[name for norm in norm_cols for name in norm_cols[norm]]"
   ]
  },
  {
   "cell_type": "code",
   "execution_count": 4,
   "id": "cardiac-surrey",
   "metadata": {},
   "outputs": [
    {
     "name": "stdout",
     "output_type": "stream",
     "text": [
      "0\n",
      "1\n",
      "2\n",
      "3\n",
      "4\n",
      "6\n",
      "7\n",
      "8\n",
      "9\n"
     ]
    }
   ],
   "source": [
    "for i in range(10):\n",
    "    if i == 5:\n",
    "        continue\n",
    "    print(i)"
   ]
  },
  {
   "cell_type": "code",
   "execution_count": 7,
   "id": "jewish-commander",
   "metadata": {},
   "outputs": [
    {
     "name": "stdout",
     "output_type": "stream",
     "text": [
      "2\n",
      "4\n",
      "6\n",
      "8\n",
      "10\n"
     ]
    }
   ],
   "source": [
    "x = 0\n",
    "while(x <= 10):\n",
    "    x+=1\n",
    "    if(x % 2):\n",
    "        continue\n",
    "    print(x)"
   ]
  },
  {
   "cell_type": "code",
   "execution_count": 8,
   "id": "liable-replacement",
   "metadata": {},
   "outputs": [
    {
     "data": {
      "text/plain": [
       "0"
      ]
     },
     "execution_count": 8,
     "metadata": {},
     "output_type": "execute_result"
    }
   ],
   "source": [
    "2%2"
   ]
  },
  {
   "cell_type": "code",
   "execution_count": 9,
   "id": "emerging-geology",
   "metadata": {},
   "outputs": [],
   "source": [
    "norm_cols = {'zscore': ['salary', 'price'],'min-max': ['heigth', 'age']}"
   ]
  },
  {
   "cell_type": "code",
   "execution_count": 10,
   "id": "dirty-chancellor",
   "metadata": {},
   "outputs": [
    {
     "name": "stdout",
     "output_type": "stream",
     "text": [
      "zscore\n",
      "min-max\n"
     ]
    }
   ],
   "source": [
    "for norm in norm_cols:\n",
    "    print(norm)"
   ]
  },
  {
   "cell_type": "code",
   "execution_count": null,
   "id": "acting-cycle",
   "metadata": {},
   "outputs": [],
   "source": []
  }
 ],
 "metadata": {
  "kernelspec": {
   "display_name": "Python 3",
   "language": "python",
   "name": "python3"
  },
  "language_info": {
   "codemirror_mode": {
    "name": "ipython",
    "version": 3
   },
   "file_extension": ".py",
   "mimetype": "text/x-python",
   "name": "python",
   "nbconvert_exporter": "python",
   "pygments_lexer": "ipython3",
   "version": "3.8.5"
  }
 },
 "nbformat": 4,
 "nbformat_minor": 5
}
